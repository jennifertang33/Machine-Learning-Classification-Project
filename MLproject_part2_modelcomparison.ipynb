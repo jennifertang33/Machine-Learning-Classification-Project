{
 "cells": [
  {
   "cell_type": "markdown",
   "id": "c7464432",
   "metadata": {},
   "source": [
    "# Machine Learning Project Part 2 - Model Comparison"
   ]
  },
  {
   "cell_type": "code",
   "execution_count": 38,
   "id": "4f17f0e7",
   "metadata": {},
   "outputs": [],
   "source": [
    "import pandas as pd\n",
    "from sklearn.model_selection import train_test_split\n",
    "from sklearn.preprocessing import StandardScaler\n",
    "from sklearn.linear_model import LogisticRegression\n",
    "from sklearn.metrics import classification_report\n",
    "from sklearn.svm import LinearSVC\n",
    "from sklearn.tree import DecisionTreeClassifier\n",
    "from sklearn.neighbors import KNeighborsClassifier\n",
    "from sklearn import metrics\n",
    "import matplotlib.pyplot as plt\n",
    "from sklearn.ensemble import RandomForestClassifier\n",
    "from sklearn.ensemble import AdaBoostClassifier\n",
    "import xgboost\n",
    "from sklearn.metrics import roc_curve, roc_auc_score, accuracy_score\n",
    "from sklearn.model_selection import StratifiedKFold, cross_val_score\n",
    "from sklearn.svm import SVC"
   ]
  },
  {
   "cell_type": "code",
   "execution_count": 2,
   "id": "129759f6",
   "metadata": {},
   "outputs": [],
   "source": [
    "df = pd.read_csv('./dataset/cleandata.csv', index_col=[0])"
   ]
  },
  {
   "cell_type": "code",
   "execution_count": 3,
   "id": "64498e50",
   "metadata": {},
   "outputs": [
    {
     "data": {
      "text/html": [
       "<div>\n",
       "<style scoped>\n",
       "    .dataframe tbody tr th:only-of-type {\n",
       "        vertical-align: middle;\n",
       "    }\n",
       "\n",
       "    .dataframe tbody tr th {\n",
       "        vertical-align: top;\n",
       "    }\n",
       "\n",
       "    .dataframe thead th {\n",
       "        text-align: right;\n",
       "    }\n",
       "</style>\n",
       "<table border=\"1\" class=\"dataframe\">\n",
       "  <thead>\n",
       "    <tr style=\"text-align: right;\">\n",
       "      <th></th>\n",
       "      <th>age</th>\n",
       "      <th>education-num</th>\n",
       "      <th>capital-gain</th>\n",
       "      <th>capital-loss</th>\n",
       "      <th>hours-per-week</th>\n",
       "      <th>income</th>\n",
       "      <th>Local-gov</th>\n",
       "      <th>Never-worked</th>\n",
       "      <th>Private</th>\n",
       "      <th>Self-emp-inc</th>\n",
       "      <th>...</th>\n",
       "      <th>Portugal</th>\n",
       "      <th>Puerto-Rico</th>\n",
       "      <th>Scotland</th>\n",
       "      <th>South</th>\n",
       "      <th>Taiwan</th>\n",
       "      <th>Thailand</th>\n",
       "      <th>Trinadad&amp;Tobago</th>\n",
       "      <th>United-States</th>\n",
       "      <th>Vietnam</th>\n",
       "      <th>Yugoslavia</th>\n",
       "    </tr>\n",
       "  </thead>\n",
       "  <tbody>\n",
       "    <tr>\n",
       "      <th>0</th>\n",
       "      <td>39</td>\n",
       "      <td>13</td>\n",
       "      <td>2174</td>\n",
       "      <td>0</td>\n",
       "      <td>40</td>\n",
       "      <td>0</td>\n",
       "      <td>0</td>\n",
       "      <td>0</td>\n",
       "      <td>0</td>\n",
       "      <td>0</td>\n",
       "      <td>...</td>\n",
       "      <td>0</td>\n",
       "      <td>0</td>\n",
       "      <td>0</td>\n",
       "      <td>0</td>\n",
       "      <td>0</td>\n",
       "      <td>0</td>\n",
       "      <td>0</td>\n",
       "      <td>1</td>\n",
       "      <td>0</td>\n",
       "      <td>0</td>\n",
       "    </tr>\n",
       "    <tr>\n",
       "      <th>1</th>\n",
       "      <td>50</td>\n",
       "      <td>13</td>\n",
       "      <td>0</td>\n",
       "      <td>0</td>\n",
       "      <td>13</td>\n",
       "      <td>0</td>\n",
       "      <td>0</td>\n",
       "      <td>0</td>\n",
       "      <td>0</td>\n",
       "      <td>0</td>\n",
       "      <td>...</td>\n",
       "      <td>0</td>\n",
       "      <td>0</td>\n",
       "      <td>0</td>\n",
       "      <td>0</td>\n",
       "      <td>0</td>\n",
       "      <td>0</td>\n",
       "      <td>0</td>\n",
       "      <td>1</td>\n",
       "      <td>0</td>\n",
       "      <td>0</td>\n",
       "    </tr>\n",
       "    <tr>\n",
       "      <th>2</th>\n",
       "      <td>38</td>\n",
       "      <td>9</td>\n",
       "      <td>0</td>\n",
       "      <td>0</td>\n",
       "      <td>40</td>\n",
       "      <td>0</td>\n",
       "      <td>0</td>\n",
       "      <td>0</td>\n",
       "      <td>1</td>\n",
       "      <td>0</td>\n",
       "      <td>...</td>\n",
       "      <td>0</td>\n",
       "      <td>0</td>\n",
       "      <td>0</td>\n",
       "      <td>0</td>\n",
       "      <td>0</td>\n",
       "      <td>0</td>\n",
       "      <td>0</td>\n",
       "      <td>1</td>\n",
       "      <td>0</td>\n",
       "      <td>0</td>\n",
       "    </tr>\n",
       "    <tr>\n",
       "      <th>3</th>\n",
       "      <td>53</td>\n",
       "      <td>7</td>\n",
       "      <td>0</td>\n",
       "      <td>0</td>\n",
       "      <td>40</td>\n",
       "      <td>0</td>\n",
       "      <td>0</td>\n",
       "      <td>0</td>\n",
       "      <td>1</td>\n",
       "      <td>0</td>\n",
       "      <td>...</td>\n",
       "      <td>0</td>\n",
       "      <td>0</td>\n",
       "      <td>0</td>\n",
       "      <td>0</td>\n",
       "      <td>0</td>\n",
       "      <td>0</td>\n",
       "      <td>0</td>\n",
       "      <td>1</td>\n",
       "      <td>0</td>\n",
       "      <td>0</td>\n",
       "    </tr>\n",
       "    <tr>\n",
       "      <th>4</th>\n",
       "      <td>28</td>\n",
       "      <td>13</td>\n",
       "      <td>0</td>\n",
       "      <td>0</td>\n",
       "      <td>40</td>\n",
       "      <td>0</td>\n",
       "      <td>0</td>\n",
       "      <td>0</td>\n",
       "      <td>1</td>\n",
       "      <td>0</td>\n",
       "      <td>...</td>\n",
       "      <td>0</td>\n",
       "      <td>0</td>\n",
       "      <td>0</td>\n",
       "      <td>0</td>\n",
       "      <td>0</td>\n",
       "      <td>0</td>\n",
       "      <td>0</td>\n",
       "      <td>0</td>\n",
       "      <td>0</td>\n",
       "      <td>0</td>\n",
       "    </tr>\n",
       "    <tr>\n",
       "      <th>...</th>\n",
       "      <td>...</td>\n",
       "      <td>...</td>\n",
       "      <td>...</td>\n",
       "      <td>...</td>\n",
       "      <td>...</td>\n",
       "      <td>...</td>\n",
       "      <td>...</td>\n",
       "      <td>...</td>\n",
       "      <td>...</td>\n",
       "      <td>...</td>\n",
       "      <td>...</td>\n",
       "      <td>...</td>\n",
       "      <td>...</td>\n",
       "      <td>...</td>\n",
       "      <td>...</td>\n",
       "      <td>...</td>\n",
       "      <td>...</td>\n",
       "      <td>...</td>\n",
       "      <td>...</td>\n",
       "      <td>...</td>\n",
       "      <td>...</td>\n",
       "    </tr>\n",
       "    <tr>\n",
       "      <th>8036</th>\n",
       "      <td>32</td>\n",
       "      <td>9</td>\n",
       "      <td>0</td>\n",
       "      <td>0</td>\n",
       "      <td>50</td>\n",
       "      <td>1</td>\n",
       "      <td>0</td>\n",
       "      <td>0</td>\n",
       "      <td>1</td>\n",
       "      <td>0</td>\n",
       "      <td>...</td>\n",
       "      <td>0</td>\n",
       "      <td>0</td>\n",
       "      <td>0</td>\n",
       "      <td>0</td>\n",
       "      <td>0</td>\n",
       "      <td>0</td>\n",
       "      <td>0</td>\n",
       "      <td>1</td>\n",
       "      <td>0</td>\n",
       "      <td>0</td>\n",
       "    </tr>\n",
       "    <tr>\n",
       "      <th>1417</th>\n",
       "      <td>31</td>\n",
       "      <td>13</td>\n",
       "      <td>0</td>\n",
       "      <td>0</td>\n",
       "      <td>90</td>\n",
       "      <td>1</td>\n",
       "      <td>0</td>\n",
       "      <td>0</td>\n",
       "      <td>1</td>\n",
       "      <td>0</td>\n",
       "      <td>...</td>\n",
       "      <td>0</td>\n",
       "      <td>0</td>\n",
       "      <td>0</td>\n",
       "      <td>0</td>\n",
       "      <td>0</td>\n",
       "      <td>0</td>\n",
       "      <td>0</td>\n",
       "      <td>1</td>\n",
       "      <td>0</td>\n",
       "      <td>0</td>\n",
       "    </tr>\n",
       "    <tr>\n",
       "      <th>13498</th>\n",
       "      <td>63</td>\n",
       "      <td>15</td>\n",
       "      <td>0</td>\n",
       "      <td>0</td>\n",
       "      <td>30</td>\n",
       "      <td>1</td>\n",
       "      <td>0</td>\n",
       "      <td>0</td>\n",
       "      <td>1</td>\n",
       "      <td>0</td>\n",
       "      <td>...</td>\n",
       "      <td>0</td>\n",
       "      <td>0</td>\n",
       "      <td>0</td>\n",
       "      <td>0</td>\n",
       "      <td>0</td>\n",
       "      <td>0</td>\n",
       "      <td>0</td>\n",
       "      <td>1</td>\n",
       "      <td>0</td>\n",
       "      <td>0</td>\n",
       "    </tr>\n",
       "    <tr>\n",
       "      <th>30749</th>\n",
       "      <td>41</td>\n",
       "      <td>12</td>\n",
       "      <td>0</td>\n",
       "      <td>1887</td>\n",
       "      <td>40</td>\n",
       "      <td>1</td>\n",
       "      <td>0</td>\n",
       "      <td>0</td>\n",
       "      <td>0</td>\n",
       "      <td>0</td>\n",
       "      <td>...</td>\n",
       "      <td>0</td>\n",
       "      <td>0</td>\n",
       "      <td>0</td>\n",
       "      <td>0</td>\n",
       "      <td>0</td>\n",
       "      <td>0</td>\n",
       "      <td>0</td>\n",
       "      <td>1</td>\n",
       "      <td>0</td>\n",
       "      <td>0</td>\n",
       "    </tr>\n",
       "    <tr>\n",
       "      <th>524</th>\n",
       "      <td>44</td>\n",
       "      <td>10</td>\n",
       "      <td>0</td>\n",
       "      <td>0</td>\n",
       "      <td>58</td>\n",
       "      <td>1</td>\n",
       "      <td>0</td>\n",
       "      <td>0</td>\n",
       "      <td>1</td>\n",
       "      <td>0</td>\n",
       "      <td>...</td>\n",
       "      <td>0</td>\n",
       "      <td>0</td>\n",
       "      <td>0</td>\n",
       "      <td>0</td>\n",
       "      <td>0</td>\n",
       "      <td>0</td>\n",
       "      <td>0</td>\n",
       "      <td>1</td>\n",
       "      <td>0</td>\n",
       "      <td>0</td>\n",
       "    </tr>\n",
       "  </tbody>\n",
       "</table>\n",
       "<p>74310 rows × 82 columns</p>\n",
       "</div>"
      ],
      "text/plain": [
       "       age  education-num  capital-gain  capital-loss  hours-per-week  income  \\\n",
       "0       39             13          2174             0              40       0   \n",
       "1       50             13             0             0              13       0   \n",
       "2       38              9             0             0              40       0   \n",
       "3       53              7             0             0              40       0   \n",
       "4       28             13             0             0              40       0   \n",
       "...    ...            ...           ...           ...             ...     ...   \n",
       "8036    32              9             0             0              50       1   \n",
       "1417    31             13             0             0              90       1   \n",
       "13498   63             15             0             0              30       1   \n",
       "30749   41             12             0          1887              40       1   \n",
       "524     44             10             0             0              58       1   \n",
       "\n",
       "       Local-gov  Never-worked  Private  Self-emp-inc  ...  Portugal  \\\n",
       "0              0             0        0             0  ...         0   \n",
       "1              0             0        0             0  ...         0   \n",
       "2              0             0        1             0  ...         0   \n",
       "3              0             0        1             0  ...         0   \n",
       "4              0             0        1             0  ...         0   \n",
       "...          ...           ...      ...           ...  ...       ...   \n",
       "8036           0             0        1             0  ...         0   \n",
       "1417           0             0        1             0  ...         0   \n",
       "13498          0             0        1             0  ...         0   \n",
       "30749          0             0        0             0  ...         0   \n",
       "524            0             0        1             0  ...         0   \n",
       "\n",
       "       Puerto-Rico  Scotland  South  Taiwan  Thailand  Trinadad&Tobago  \\\n",
       "0                0         0      0       0         0                0   \n",
       "1                0         0      0       0         0                0   \n",
       "2                0         0      0       0         0                0   \n",
       "3                0         0      0       0         0                0   \n",
       "4                0         0      0       0         0                0   \n",
       "...            ...       ...    ...     ...       ...              ...   \n",
       "8036             0         0      0       0         0                0   \n",
       "1417             0         0      0       0         0                0   \n",
       "13498            0         0      0       0         0                0   \n",
       "30749            0         0      0       0         0                0   \n",
       "524              0         0      0       0         0                0   \n",
       "\n",
       "       United-States  Vietnam  Yugoslavia  \n",
       "0                  1        0           0  \n",
       "1                  1        0           0  \n",
       "2                  1        0           0  \n",
       "3                  1        0           0  \n",
       "4                  0        0           0  \n",
       "...              ...      ...         ...  \n",
       "8036               1        0           0  \n",
       "1417               1        0           0  \n",
       "13498              1        0           0  \n",
       "30749              1        0           0  \n",
       "524                1        0           0  \n",
       "\n",
       "[74310 rows x 82 columns]"
      ]
     },
     "execution_count": 3,
     "metadata": {},
     "output_type": "execute_result"
    }
   ],
   "source": [
    "df"
   ]
  },
  {
   "cell_type": "code",
   "execution_count": 4,
   "id": "1c741fd3",
   "metadata": {},
   "outputs": [],
   "source": [
    "x = df.drop('income', axis=1)\n",
    "y = df['income']"
   ]
  },
  {
   "cell_type": "code",
   "execution_count": 5,
   "id": "bc76f9a6",
   "metadata": {},
   "outputs": [],
   "source": [
    "# original training set = 32561 data pt.\n",
    "# original testing set = 16281 data pt.\n",
    "# ratio = 65% : 35%\n",
    "# so, set the test_size = 0.3"
   ]
  },
  {
   "cell_type": "code",
   "execution_count": 6,
   "id": "2f4697e2",
   "metadata": {},
   "outputs": [],
   "source": [
    "x_train, x_test, y_train, y_test = train_test_split(x, y, test_size=0.3, random_state=1)"
   ]
  },
  {
   "cell_type": "code",
   "execution_count": 7,
   "id": "ec5f7ea5",
   "metadata": {},
   "outputs": [
    {
     "name": "stdout",
     "output_type": "stream",
     "text": [
      "(52017, 81)\n",
      "(52017,)\n",
      "(22293, 81)\n",
      "(22293,)\n"
     ]
    }
   ],
   "source": [
    "print(x_train.shape)\n",
    "print(y_train.shape)\n",
    "print(x_test.shape)\n",
    "print(y_test.shape)"
   ]
  },
  {
   "cell_type": "code",
   "execution_count": 8,
   "id": "ca92a34b",
   "metadata": {},
   "outputs": [],
   "source": [
    "# scale the training and testing data\n",
    "\n",
    "scaler = StandardScaler() \n",
    "x_train = scaler.fit_transform(x_train)\n",
    "x_test = scaler.transform(x_test)"
   ]
  },
  {
   "cell_type": "markdown",
   "id": "624f2c7c",
   "metadata": {},
   "source": [
    "# 1. Logistic Regression"
   ]
  },
  {
   "cell_type": "code",
   "execution_count": 9,
   "id": "9981c6f3",
   "metadata": {},
   "outputs": [],
   "source": [
    "logistic = LogisticRegression()\n",
    "logistic.fit(x_train, y_train)\n",
    "logistic_pred = logistic.predict(x_test)"
   ]
  },
  {
   "cell_type": "markdown",
   "id": "c578358a",
   "metadata": {},
   "source": [
    "### Logistic Regression Model Evaluation"
   ]
  },
  {
   "cell_type": "code",
   "execution_count": 11,
   "id": "21afbef8",
   "metadata": {},
   "outputs": [
    {
     "name": "stdout",
     "output_type": "stream",
     "text": [
      "              precision    recall  f1-score   support\n",
      "\n",
      "           0       0.83      0.79      0.81     11155\n",
      "           1       0.80      0.84      0.82     11138\n",
      "\n",
      "    accuracy                           0.82     22293\n",
      "   macro avg       0.82      0.82      0.82     22293\n",
      "weighted avg       0.82      0.82      0.82     22293\n",
      "\n"
     ]
    }
   ],
   "source": [
    "print(classification_report(y_test, logistic_pred))"
   ]
  },
  {
   "cell_type": "markdown",
   "id": "d262e5e9",
   "metadata": {},
   "source": [
    "# 2. SVM"
   ]
  },
  {
   "cell_type": "code",
   "execution_count": 12,
   "id": "1b07abb4",
   "metadata": {},
   "outputs": [
    {
     "name": "stderr",
     "output_type": "stream",
     "text": [
      "/Users/jennifertang/opt/anaconda3/lib/python3.8/site-packages/sklearn/svm/_base.py:985: ConvergenceWarning: Liblinear failed to converge, increase the number of iterations.\n",
      "  warnings.warn(\"Liblinear failed to converge, increase \"\n"
     ]
    }
   ],
   "source": [
    "SVM_model = LinearSVC()\n",
    "SVM_model.fit(x_train, y_train)\n",
    "SVM_pred = SVM_model.predict(x_test)"
   ]
  },
  {
   "cell_type": "markdown",
   "id": "c9f8a2e5",
   "metadata": {},
   "source": [
    "### SVM Model Evaluation"
   ]
  },
  {
   "cell_type": "code",
   "execution_count": 13,
   "id": "9f5a725a",
   "metadata": {},
   "outputs": [
    {
     "name": "stdout",
     "output_type": "stream",
     "text": [
      "              precision    recall  f1-score   support\n",
      "\n",
      "           0       0.84      0.78      0.81     11155\n",
      "           1       0.80      0.85      0.82     11138\n",
      "\n",
      "    accuracy                           0.82     22293\n",
      "   macro avg       0.82      0.82      0.82     22293\n",
      "weighted avg       0.82      0.82      0.82     22293\n",
      "\n"
     ]
    }
   ],
   "source": [
    "print(classification_report(y_test, SVM_pred))"
   ]
  },
  {
   "cell_type": "markdown",
   "id": "6e7e84d5",
   "metadata": {},
   "source": [
    "# 3. Decision Tree"
   ]
  },
  {
   "cell_type": "code",
   "execution_count": 14,
   "id": "f6c59f67",
   "metadata": {},
   "outputs": [],
   "source": [
    "Dtree = DecisionTreeClassifier()\n",
    "Dtree.fit(x_train, y_train)\n",
    "Dtree_pred = Dtree.predict(x_test)"
   ]
  },
  {
   "cell_type": "markdown",
   "id": "5aebd212",
   "metadata": {},
   "source": [
    "### Decision Tree Model Evaluation"
   ]
  },
  {
   "cell_type": "code",
   "execution_count": 15,
   "id": "57473ceb",
   "metadata": {},
   "outputs": [
    {
     "name": "stdout",
     "output_type": "stream",
     "text": [
      "              precision    recall  f1-score   support\n",
      "\n",
      "           0       0.94      0.84      0.89     11155\n",
      "           1       0.86      0.95      0.90     11138\n",
      "\n",
      "    accuracy                           0.90     22293\n",
      "   macro avg       0.90      0.90      0.90     22293\n",
      "weighted avg       0.90      0.90      0.90     22293\n",
      "\n"
     ]
    }
   ],
   "source": [
    "print(f\"{classification_report(y_test, Dtree_pred)}\")"
   ]
  },
  {
   "cell_type": "markdown",
   "id": "6089aef4",
   "metadata": {},
   "source": [
    "# 4. KNN"
   ]
  },
  {
   "cell_type": "code",
   "execution_count": 16,
   "id": "5fe00fc0",
   "metadata": {},
   "outputs": [],
   "source": [
    "#*******************************************      warning      ***************************************************\n",
    "#*****************************************************************************************************************\n",
    "\n",
    "# the following cell will take you around 15 mins to run\n",
    "\n",
    "#*****************************************************************************************************************\n",
    "#*****************************************************************************************************************"
   ]
  },
  {
   "cell_type": "code",
   "execution_count": 17,
   "id": "046e3c56",
   "metadata": {},
   "outputs": [
    {
     "name": "stdout",
     "output_type": "stream",
     "text": [
      "CPU times: user 3 µs, sys: 1e+03 ns, total: 4 µs\n",
      "Wall time: 5.96 µs\n"
     ]
    }
   ],
   "source": [
    "# find the optimum value of k\n",
    "\n",
    "%time\n",
    "\n",
    "k_range=range(1,26)\n",
    "scores=[]\n",
    "\n",
    "for k in k_range:\n",
    "    knn = KNeighborsClassifier(n_neighbors=k)\n",
    "    knn.fit(x_train, y_train)\n",
    "    knn_pred = knn.predict(x_test)\n",
    "    scores.append(metrics.accuracy_score(y_test, knn_pred))"
   ]
  },
  {
   "cell_type": "code",
   "execution_count": 18,
   "id": "1e2a424e",
   "metadata": {},
   "outputs": [
    {
     "name": "stdout",
     "output_type": "stream",
     "text": [
      "(1, 0.8845377472749294)\n",
      "(2, 0.848741757502355)\n",
      "(3, 0.8467680437805589)\n",
      "(4, 0.8266271923922307)\n",
      "(5, 0.8281074776835778)\n",
      "(6, 0.8195397658457811)\n",
      "(7, 0.8210200511371283)\n",
      "(8, 0.8171623379536177)\n",
      "(9, 0.8179249091643117)\n",
      "(10, 0.8164894810030054)\n",
      "(11, 0.8142017673709236)\n",
      "(12, 0.8135289104203113)\n",
      "(13, 0.8124074821692908)\n",
      "(14, 0.811600053828556)\n",
      "(15, 0.8137531960705154)\n",
      "(16, 0.8125869106894541)\n",
      "(17, 0.8114206253083928)\n",
      "(18, 0.8102094827972907)\n",
      "(19, 0.8089983402861884)\n",
      "(20, 0.8082806262055354)\n",
      "(21, 0.8077871977750863)\n",
      "(22, 0.8085946261158211)\n",
      "(23, 0.8075629121248823)\n",
      "(24, 0.8072040550845557)\n",
      "(25, 0.8062620553536984)\n"
     ]
    }
   ],
   "source": [
    "k_value = [i for i in k_range]\n",
    "for i in list(zip(k_value, scores)):\n",
    "    print (i)"
   ]
  },
  {
   "cell_type": "code",
   "execution_count": 21,
   "id": "e0784549",
   "metadata": {},
   "outputs": [
    {
     "data": {
      "image/png": "[encoded data removed]",
      "text/plain": [
       "<Figure size 720x432 with 1 Axes>"
      ]
     },
     "metadata": {
      "needs_background": "light"
     },
     "output_type": "display_data"
    }
   ],
   "source": [
    "plt.figure(figsize=(10,6))\n",
    "plt.plot(k_range, scores,  marker=\".\")\n",
    "plt.title('Accuracy vs k-value', fontsize=18, fontweight='bold')\n",
    "plt.xlabel('k-value', fontsize=14)\n",
    "plt.ylabel('Accuracy', fontsize=14)\n",
    "plt.savefig('./graphs/optimum_k_value.png', dpi=720, bbox_inches='tight')\n",
    "plt.show()"
   ]
  },
  {
   "cell_type": "code",
   "execution_count": 22,
   "id": "1601bcbc",
   "metadata": {},
   "outputs": [],
   "source": [
    "# apply the optimum value for k\n",
    "\n",
    "knn = KNeighborsClassifier(n_neighbors=1)\n",
    "knn.fit(x_train, y_train)\n",
    "knn_pred = knn.predict(x_test)"
   ]
  },
  {
   "cell_type": "markdown",
   "id": "6f6025a6",
   "metadata": {},
   "source": [
    "### KNN Model Evaluation"
   ]
  },
  {
   "cell_type": "code",
   "execution_count": 23,
   "id": "1e1094f8",
   "metadata": {},
   "outputs": [
    {
     "name": "stdout",
     "output_type": "stream",
     "text": [
      "              precision    recall  f1-score   support\n",
      "\n",
      "           0       0.92      0.84      0.88     11155\n",
      "           1       0.85      0.93      0.89     11138\n",
      "\n",
      "    accuracy                           0.88     22293\n",
      "   macro avg       0.89      0.88      0.88     22293\n",
      "weighted avg       0.89      0.88      0.88     22293\n",
      "\n"
     ]
    }
   ],
   "source": [
    "print(f\"{classification_report(y_test, knn_pred)}\")"
   ]
  },
  {
   "cell_type": "markdown",
   "id": "885880d3",
   "metadata": {},
   "source": [
    "# 5. Random Forest"
   ]
  },
  {
   "cell_type": "code",
   "execution_count": 24,
   "id": "a0a2c4ec",
   "metadata": {},
   "outputs": [],
   "source": [
    "randomforest = RandomForestClassifier(n_estimators=50, n_jobs=-1, random_state=42)\n",
    "randomforest.fit(x_train, y_train)\n",
    "randomforest_pred = randomforest.predict(x_test)"
   ]
  },
  {
   "cell_type": "markdown",
   "id": "dedbf615",
   "metadata": {},
   "source": [
    "### Random Forest Model Evaluation"
   ]
  },
  {
   "cell_type": "code",
   "execution_count": 25,
   "id": "d6201564",
   "metadata": {},
   "outputs": [
    {
     "name": "stdout",
     "output_type": "stream",
     "text": [
      "              precision    recall  f1-score   support\n",
      "\n",
      "           0       0.95      0.86      0.91     11155\n",
      "           1       0.88      0.96      0.91     11138\n",
      "\n",
      "    accuracy                           0.91     22293\n",
      "   macro avg       0.91      0.91      0.91     22293\n",
      "weighted avg       0.91      0.91      0.91     22293\n",
      "\n"
     ]
    }
   ],
   "source": [
    "print(f\"{classification_report(y_test, randomforest_pred)}\")"
   ]
  },
  {
   "cell_type": "markdown",
   "id": "27e8f3b8",
   "metadata": {},
   "source": [
    "# 6. AdaBoost"
   ]
  },
  {
   "cell_type": "code",
   "execution_count": 26,
   "id": "b0aa4dc6",
   "metadata": {},
   "outputs": [],
   "source": [
    "ada = AdaBoostClassifier(DecisionTreeClassifier(max_depth=3), n_estimators=100, random_state=10)\n",
    "ada.fit(x_train, y_train)\n",
    "ada_pred = ada.predict(x_test)"
   ]
  },
  {
   "cell_type": "markdown",
   "id": "74f62654",
   "metadata": {},
   "source": [
    "### AdaBoost Model Evaluation"
   ]
  },
  {
   "cell_type": "code",
   "execution_count": 27,
   "id": "6892535f",
   "metadata": {},
   "outputs": [
    {
     "name": "stdout",
     "output_type": "stream",
     "text": [
      "              precision    recall  f1-score   support\n",
      "\n",
      "           0       0.87      0.82      0.84     11155\n",
      "           1       0.83      0.88      0.85     11138\n",
      "\n",
      "    accuracy                           0.85     22293\n",
      "   macro avg       0.85      0.85      0.85     22293\n",
      "weighted avg       0.85      0.85      0.85     22293\n",
      "\n"
     ]
    }
   ],
   "source": [
    "print(f\"{classification_report(y_test, ada_pred)}\")"
   ]
  },
  {
   "cell_type": "markdown",
   "id": "0c53761f",
   "metadata": {},
   "source": [
    "# 7. XGBoost"
   ]
  },
  {
   "cell_type": "code",
   "execution_count": 28,
   "id": "69a6af49",
   "metadata": {},
   "outputs": [
    {
     "name": "stderr",
     "output_type": "stream",
     "text": [
      "/Users/jennifertang/opt/anaconda3/lib/python3.8/site-packages/xgboost/sklearn.py:888: UserWarning: The use of label encoder in XGBClassifier is deprecated and will be removed in a future release. To remove this warning, do the following: 1) Pass option use_label_encoder=False when constructing XGBClassifier object; and 2) Encode your labels (y) as integers starting with 0, i.e. 0, 1, 2, ..., [num_class - 1].\n",
      "  warnings.warn(label_encoder_deprecation_msg, UserWarning)\n"
     ]
    },
    {
     "name": "stdout",
     "output_type": "stream",
     "text": [
      "[22:22:19] WARNING: /opt/concourse/worker/volumes/live/7a2b9f41-3287-451b-6691-43e9a6c0910f/volume/xgboost-split_1619728204606/work/src/learner.cc:1061: Starting in XGBoost 1.3.0, the default evaluation metric used with the objective 'binary:logistic' was changed from 'error' to 'logloss'. Explicitly set eval_metric if you'd like to restore the old behavior.\n"
     ]
    }
   ],
   "source": [
    "xg = xgboost.XGBClassifier()\n",
    "xg.fit(x_train, y_train)\n",
    "xg_pred = xg.predict(x_test)"
   ]
  },
  {
   "cell_type": "markdown",
   "id": "69dd659f",
   "metadata": {},
   "source": [
    "### XGBoost Model Evaluation"
   ]
  },
  {
   "cell_type": "code",
   "execution_count": 29,
   "id": "d994d2f9",
   "metadata": {},
   "outputs": [
    {
     "name": "stdout",
     "output_type": "stream",
     "text": [
      "              precision    recall  f1-score   support\n",
      "\n",
      "           0       0.88      0.83      0.85     11155\n",
      "           1       0.84      0.89      0.86     11138\n",
      "\n",
      "    accuracy                           0.86     22293\n",
      "   macro avg       0.86      0.86      0.86     22293\n",
      "weighted avg       0.86      0.86      0.86     22293\n",
      "\n"
     ]
    }
   ],
   "source": [
    "print(f\"{classification_report(y_test, xg_pred)}\")"
   ]
  },
  {
   "cell_type": "markdown",
   "id": "1b7e4271",
   "metadata": {},
   "source": [
    "# ROC - AUC graph"
   ]
  },
  {
   "cell_type": "code",
   "execution_count": 30,
   "id": "1c5a2d3b",
   "metadata": {},
   "outputs": [
    {
     "data": {
      "image/png": "[encoded data removed]",
      "text/plain": [
       "<Figure size 720x720 with 1 Axes>"
      ]
     },
     "metadata": {
      "needs_background": "light"
     },
     "output_type": "display_data"
    }
   ],
   "source": [
    "plt.figure(figsize=(10, 10))\n",
    "\n",
    "# for 1.Logistic Regression\n",
    "logistic_pred_prob = logistic.predict_proba(x_test)[:,1]\n",
    "fpr, tpr, thresholds = roc_curve(y_test, logistic_pred_prob)\n",
    "plt.plot(fpr, tpr, label='Logistic Regression')\n",
    "\n",
    "# for 3.Decision Tree\n",
    "Dtree_pred_prob = Dtree.predict_proba(x_test)[:,1]\n",
    "fpr, tpr, thresholds = roc_curve(y_test, Dtree_pred_prob)\n",
    "plt.plot(fpr, tpr, label='Decision Tree')\n",
    "\n",
    "# for 4.KNN\n",
    "knn_pred_prob = knn.predict_proba(x_test)[:,1]\n",
    "fpr, tpr, thresholds = roc_curve(y_test, knn_pred_prob)\n",
    "plt.plot(fpr, tpr, label='k-Nearest Neighbors')\n",
    "\n",
    "# for 5.Random Forest\n",
    "randomforest_pred_prob = randomforest.predict_proba(x_test)[:,1]\n",
    "fpr, tpr, thresholds = roc_curve(y_test, randomforest_pred_prob)\n",
    "plt.plot(fpr, tpr, label='Random Forest')\n",
    "\n",
    "# for 6.Adaboost\n",
    "ada_pred_prob = ada.predict_proba(x_test)[:,1]\n",
    "fpr, tpr, thresholds = roc_curve(y_test, ada_pred_prob)\n",
    "plt.plot(fpr, tpr, label='Adaboost')\n",
    "\n",
    "plt.plot([0,1], [0,1], 'k--')\n",
    "\n",
    "plt.xlabel('False Positive Rate', fontsize=15)\n",
    "plt.ylabel('True Positive Rate', fontsize=15)\n",
    "plt.title('ROC Curves', fontsize=20, fontweight='bold')\n",
    "\n",
    "plt.legend()\n",
    "plt.savefig('./graphs/ROC_curves.png', dpi=720, bbox_inches='tight')\n",
    "plt.show()"
   ]
  },
  {
   "cell_type": "code",
   "execution_count": 31,
   "id": "81ccc64b",
   "metadata": {},
   "outputs": [],
   "source": [
    "model = ['Logistic Regression', 'Decision Tree', 'k-Nearest Neighbors', 'Random Forest', 'Adaboost']\n",
    "a = roc_auc_score(y_test, logistic_pred_prob)\n",
    "b = roc_auc_score(y_test, Dtree_pred_prob)\n",
    "c = roc_auc_score(y_test, knn_pred_prob)\n",
    "d = roc_auc_score(y_test, randomforest_pred_prob)\n",
    "e = roc_auc_score(y_test, ada_pred_prob)\n",
    "auc = [a, b, c, d, e]"
   ]
  },
  {
   "cell_type": "code",
   "execution_count": 32,
   "id": "0f2def9e",
   "metadata": {},
   "outputs": [],
   "source": [
    "acc1=accuracy_score(y_test, logistic_pred)\n",
    "acc2=accuracy_score(y_test, Dtree_pred)\n",
    "acc3=accuracy_score(y_test, knn_pred)\n",
    "acc4=accuracy_score(y_test, randomforest_pred)\n",
    "acc5=accuracy_score(y_test, ada_pred)\n",
    "accuracy = [acc1, acc2, acc3, acc4, acc5]"
   ]
  },
  {
   "cell_type": "code",
   "execution_count": 33,
   "id": "436bb7b3",
   "metadata": {},
   "outputs": [],
   "source": [
    "comparison = pd.DataFrame(list(zip(accuracy, auc)), index=model, columns=['accuracy', 'area under curve'])"
   ]
  },
  {
   "cell_type": "code",
   "execution_count": 34,
   "id": "7cf4e2a9",
   "metadata": {},
   "outputs": [
    {
     "data": {
      "text/html": [
       "<div>\n",
       "<style scoped>\n",
       "    .dataframe tbody tr th:only-of-type {\n",
       "        vertical-align: middle;\n",
       "    }\n",
       "\n",
       "    .dataframe tbody tr th {\n",
       "        vertical-align: top;\n",
       "    }\n",
       "\n",
       "    .dataframe thead th {\n",
       "        text-align: right;\n",
       "    }\n",
       "</style>\n",
       "<table border=\"1\" class=\"dataframe\">\n",
       "  <thead>\n",
       "    <tr style=\"text-align: right;\">\n",
       "      <th></th>\n",
       "      <th>accuracy</th>\n",
       "      <th>area under curve</th>\n",
       "    </tr>\n",
       "  </thead>\n",
       "  <tbody>\n",
       "    <tr>\n",
       "      <th>Logistic Regression</th>\n",
       "      <td>0.818149</td>\n",
       "      <td>0.904399</td>\n",
       "    </tr>\n",
       "    <tr>\n",
       "      <th>Decision Tree</th>\n",
       "      <td>0.895842</td>\n",
       "      <td>0.915825</td>\n",
       "    </tr>\n",
       "    <tr>\n",
       "      <th>k-Nearest Neighbors</th>\n",
       "      <td>0.884538</td>\n",
       "      <td>0.884569</td>\n",
       "    </tr>\n",
       "    <tr>\n",
       "      <th>Random Forest</th>\n",
       "      <td>0.910959</td>\n",
       "      <td>0.965645</td>\n",
       "    </tr>\n",
       "    <tr>\n",
       "      <th>Adaboost</th>\n",
       "      <td>0.847575</td>\n",
       "      <td>0.928759</td>\n",
       "    </tr>\n",
       "  </tbody>\n",
       "</table>\n",
       "</div>"
      ],
      "text/plain": [
       "                     accuracy  area under curve\n",
       "Logistic Regression  0.818149          0.904399\n",
       "Decision Tree        0.895842          0.915825\n",
       "k-Nearest Neighbors  0.884538          0.884569\n",
       "Random Forest        0.910959          0.965645\n",
       "Adaboost             0.847575          0.928759"
      ]
     },
     "execution_count": 34,
     "metadata": {},
     "output_type": "execute_result"
    }
   ],
   "source": [
    "comparison"
   ]
  },
  {
   "cell_type": "code",
   "execution_count": 35,
   "id": "7a66340a",
   "metadata": {},
   "outputs": [
    {
     "data": {
      "image/png": "[encoded data removed]",
      "text/plain": [
       "<Figure size 720x432 with 1 Axes>"
      ]
     },
     "metadata": {
      "needs_background": "light"
     },
     "output_type": "display_data"
    }
   ],
   "source": [
    "plt.rcParams['figure.figsize']=(10, 6)\n",
    "comparison.plot(kind='bar')\n",
    "plt.xlabel('Machine Learning Model', fontsize=16)\n",
    "plt.ylabel('Accuracy and AUC', fontsize=16)\n",
    "plt.title('Algorithm Comparison', fontsize=22, fontweight='bold')\n",
    "plt.xticks(rotation=30)\n",
    "plt.legend(loc = \"lower right\")\n",
    "plt.savefig('./graphs/accuracy_and_auc', dpi=720, bbox_inches='tight')\n",
    "plt.show()"
   ]
  },
  {
   "cell_type": "code",
   "execution_count": 36,
   "id": "04b10a42",
   "metadata": {},
   "outputs": [],
   "source": [
    "#*******************************************      warning      ***************************************************\n",
    "#*****************************************************************************************************************\n",
    "\n",
    "\n",
    "\n",
    "# the following cell will take you almost \"\"\"\"1 HOUR\"\"\"\" to run\n",
    "\n",
    "\n",
    "\n",
    "#*****************************************************************************************************************\n",
    "#*****************************************************************************************************************"
   ]
  },
  {
   "cell_type": "code",
   "execution_count": 39,
   "id": "ba62481d",
   "metadata": {},
   "outputs": [
    {
     "name": "stdout",
     "output_type": "stream",
     "text": [
      "Logistic Regression: 0.821385 (0.003354)\n",
      "SVM: 0.826057 (0.003445)\n",
      "Decision Tree: 0.888537 (0.003622)\n",
      "KNN: 0.877079 (0.003798)\n",
      "Random Forest: 0.905396 (0.005509)\n",
      "AdaBoost: 0.850953 (0.004164)\n"
     ]
    },
    {
     "name": "stderr",
     "output_type": "stream",
     "text": [
      "/Users/jennifertang/opt/anaconda3/lib/python3.8/site-packages/xgboost/sklearn.py:888: UserWarning: The use of label encoder in XGBClassifier is deprecated and will be removed in a future release. To remove this warning, do the following: 1) Pass option use_label_encoder=False when constructing XGBClassifier object; and 2) Encode your labels (y) as integers starting with 0, i.e. 0, 1, 2, ..., [num_class - 1].\n",
      "  warnings.warn(label_encoder_deprecation_msg, UserWarning)\n"
     ]
    },
    {
     "name": "stdout",
     "output_type": "stream",
     "text": [
      "[23:10:55] WARNING: /opt/concourse/worker/volumes/live/7a2b9f41-3287-451b-6691-43e9a6c0910f/volume/xgboost-split_1619728204606/work/src/learner.cc:1061: Starting in XGBoost 1.3.0, the default evaluation metric used with the objective 'binary:logistic' was changed from 'error' to 'logloss'. Explicitly set eval_metric if you'd like to restore the old behavior.\n"
     ]
    },
    {
     "name": "stderr",
     "output_type": "stream",
     "text": [
      "/Users/jennifertang/opt/anaconda3/lib/python3.8/site-packages/xgboost/sklearn.py:888: UserWarning: The use of label encoder in XGBClassifier is deprecated and will be removed in a future release. To remove this warning, do the following: 1) Pass option use_label_encoder=False when constructing XGBClassifier object; and 2) Encode your labels (y) as integers starting with 0, i.e. 0, 1, 2, ..., [num_class - 1].\n",
      "  warnings.warn(label_encoder_deprecation_msg, UserWarning)\n"
     ]
    },
    {
     "name": "stdout",
     "output_type": "stream",
     "text": [
      "[23:11:06] WARNING: /opt/concourse/worker/volumes/live/7a2b9f41-3287-451b-6691-43e9a6c0910f/volume/xgboost-split_1619728204606/work/src/learner.cc:1061: Starting in XGBoost 1.3.0, the default evaluation metric used with the objective 'binary:logistic' was changed from 'error' to 'logloss'. Explicitly set eval_metric if you'd like to restore the old behavior.\n"
     ]
    },
    {
     "name": "stderr",
     "output_type": "stream",
     "text": [
      "/Users/jennifertang/opt/anaconda3/lib/python3.8/site-packages/xgboost/sklearn.py:888: UserWarning: The use of label encoder in XGBClassifier is deprecated and will be removed in a future release. To remove this warning, do the following: 1) Pass option use_label_encoder=False when constructing XGBClassifier object; and 2) Encode your labels (y) as integers starting with 0, i.e. 0, 1, 2, ..., [num_class - 1].\n",
      "  warnings.warn(label_encoder_deprecation_msg, UserWarning)\n"
     ]
    },
    {
     "name": "stdout",
     "output_type": "stream",
     "text": [
      "[23:11:18] WARNING: /opt/concourse/worker/volumes/live/7a2b9f41-3287-451b-6691-43e9a6c0910f/volume/xgboost-split_1619728204606/work/src/learner.cc:1061: Starting in XGBoost 1.3.0, the default evaluation metric used with the objective 'binary:logistic' was changed from 'error' to 'logloss'. Explicitly set eval_metric if you'd like to restore the old behavior.\n"
     ]
    },
    {
     "name": "stderr",
     "output_type": "stream",
     "text": [
      "/Users/jennifertang/opt/anaconda3/lib/python3.8/site-packages/xgboost/sklearn.py:888: UserWarning: The use of label encoder in XGBClassifier is deprecated and will be removed in a future release. To remove this warning, do the following: 1) Pass option use_label_encoder=False when constructing XGBClassifier object; and 2) Encode your labels (y) as integers starting with 0, i.e. 0, 1, 2, ..., [num_class - 1].\n",
      "  warnings.warn(label_encoder_deprecation_msg, UserWarning)\n"
     ]
    },
    {
     "name": "stdout",
     "output_type": "stream",
     "text": [
      "[23:11:30] WARNING: /opt/concourse/worker/volumes/live/7a2b9f41-3287-451b-6691-43e9a6c0910f/volume/xgboost-split_1619728204606/work/src/learner.cc:1061: Starting in XGBoost 1.3.0, the default evaluation metric used with the objective 'binary:logistic' was changed from 'error' to 'logloss'. Explicitly set eval_metric if you'd like to restore the old behavior.\n"
     ]
    },
    {
     "name": "stderr",
     "output_type": "stream",
     "text": [
      "/Users/jennifertang/opt/anaconda3/lib/python3.8/site-packages/xgboost/sklearn.py:888: UserWarning: The use of label encoder in XGBClassifier is deprecated and will be removed in a future release. To remove this warning, do the following: 1) Pass option use_label_encoder=False when constructing XGBClassifier object; and 2) Encode your labels (y) as integers starting with 0, i.e. 0, 1, 2, ..., [num_class - 1].\n",
      "  warnings.warn(label_encoder_deprecation_msg, UserWarning)\n"
     ]
    },
    {
     "name": "stdout",
     "output_type": "stream",
     "text": [
      "[23:11:42] WARNING: /opt/concourse/worker/volumes/live/7a2b9f41-3287-451b-6691-43e9a6c0910f/volume/xgboost-split_1619728204606/work/src/learner.cc:1061: Starting in XGBoost 1.3.0, the default evaluation metric used with the objective 'binary:logistic' was changed from 'error' to 'logloss'. Explicitly set eval_metric if you'd like to restore the old behavior.\n"
     ]
    },
    {
     "name": "stderr",
     "output_type": "stream",
     "text": [
      "/Users/jennifertang/opt/anaconda3/lib/python3.8/site-packages/xgboost/sklearn.py:888: UserWarning: The use of label encoder in XGBClassifier is deprecated and will be removed in a future release. To remove this warning, do the following: 1) Pass option use_label_encoder=False when constructing XGBClassifier object; and 2) Encode your labels (y) as integers starting with 0, i.e. 0, 1, 2, ..., [num_class - 1].\n",
      "  warnings.warn(label_encoder_deprecation_msg, UserWarning)\n"
     ]
    },
    {
     "name": "stdout",
     "output_type": "stream",
     "text": [
      "[23:11:53] WARNING: /opt/concourse/worker/volumes/live/7a2b9f41-3287-451b-6691-43e9a6c0910f/volume/xgboost-split_1619728204606/work/src/learner.cc:1061: Starting in XGBoost 1.3.0, the default evaluation metric used with the objective 'binary:logistic' was changed from 'error' to 'logloss'. Explicitly set eval_metric if you'd like to restore the old behavior.\n"
     ]
    },
    {
     "name": "stderr",
     "output_type": "stream",
     "text": [
      "/Users/jennifertang/opt/anaconda3/lib/python3.8/site-packages/xgboost/sklearn.py:888: UserWarning: The use of label encoder in XGBClassifier is deprecated and will be removed in a future release. To remove this warning, do the following: 1) Pass option use_label_encoder=False when constructing XGBClassifier object; and 2) Encode your labels (y) as integers starting with 0, i.e. 0, 1, 2, ..., [num_class - 1].\n",
      "  warnings.warn(label_encoder_deprecation_msg, UserWarning)\n"
     ]
    },
    {
     "name": "stdout",
     "output_type": "stream",
     "text": [
      "[23:12:05] WARNING: /opt/concourse/worker/volumes/live/7a2b9f41-3287-451b-6691-43e9a6c0910f/volume/xgboost-split_1619728204606/work/src/learner.cc:1061: Starting in XGBoost 1.3.0, the default evaluation metric used with the objective 'binary:logistic' was changed from 'error' to 'logloss'. Explicitly set eval_metric if you'd like to restore the old behavior.\n"
     ]
    },
    {
     "name": "stderr",
     "output_type": "stream",
     "text": [
      "/Users/jennifertang/opt/anaconda3/lib/python3.8/site-packages/xgboost/sklearn.py:888: UserWarning: The use of label encoder in XGBClassifier is deprecated and will be removed in a future release. To remove this warning, do the following: 1) Pass option use_label_encoder=False when constructing XGBClassifier object; and 2) Encode your labels (y) as integers starting with 0, i.e. 0, 1, 2, ..., [num_class - 1].\n",
      "  warnings.warn(label_encoder_deprecation_msg, UserWarning)\n"
     ]
    },
    {
     "name": "stdout",
     "output_type": "stream",
     "text": [
      "[23:12:17] WARNING: /opt/concourse/worker/volumes/live/7a2b9f41-3287-451b-6691-43e9a6c0910f/volume/xgboost-split_1619728204606/work/src/learner.cc:1061: Starting in XGBoost 1.3.0, the default evaluation metric used with the objective 'binary:logistic' was changed from 'error' to 'logloss'. Explicitly set eval_metric if you'd like to restore the old behavior.\n"
     ]
    },
    {
     "name": "stderr",
     "output_type": "stream",
     "text": [
      "/Users/jennifertang/opt/anaconda3/lib/python3.8/site-packages/xgboost/sklearn.py:888: UserWarning: The use of label encoder in XGBClassifier is deprecated and will be removed in a future release. To remove this warning, do the following: 1) Pass option use_label_encoder=False when constructing XGBClassifier object; and 2) Encode your labels (y) as integers starting with 0, i.e. 0, 1, 2, ..., [num_class - 1].\n",
      "  warnings.warn(label_encoder_deprecation_msg, UserWarning)\n"
     ]
    },
    {
     "name": "stdout",
     "output_type": "stream",
     "text": [
      "[23:12:29] WARNING: /opt/concourse/worker/volumes/live/7a2b9f41-3287-451b-6691-43e9a6c0910f/volume/xgboost-split_1619728204606/work/src/learner.cc:1061: Starting in XGBoost 1.3.0, the default evaluation metric used with the objective 'binary:logistic' was changed from 'error' to 'logloss'. Explicitly set eval_metric if you'd like to restore the old behavior.\n"
     ]
    },
    {
     "name": "stderr",
     "output_type": "stream",
     "text": [
      "/Users/jennifertang/opt/anaconda3/lib/python3.8/site-packages/xgboost/sklearn.py:888: UserWarning: The use of label encoder in XGBClassifier is deprecated and will be removed in a future release. To remove this warning, do the following: 1) Pass option use_label_encoder=False when constructing XGBClassifier object; and 2) Encode your labels (y) as integers starting with 0, i.e. 0, 1, 2, ..., [num_class - 1].\n",
      "  warnings.warn(label_encoder_deprecation_msg, UserWarning)\n"
     ]
    },
    {
     "name": "stdout",
     "output_type": "stream",
     "text": [
      "[23:12:40] WARNING: /opt/concourse/worker/volumes/live/7a2b9f41-3287-451b-6691-43e9a6c0910f/volume/xgboost-split_1619728204606/work/src/learner.cc:1061: Starting in XGBoost 1.3.0, the default evaluation metric used with the objective 'binary:logistic' was changed from 'error' to 'logloss'. Explicitly set eval_metric if you'd like to restore the old behavior.\n",
      "XGBoost: 0.860603 (0.003902)\n"
     ]
    },
    {
     "data": {
      "image/png": "[encoded data removed]",
      "text/plain": [
       "<Figure size 720x432 with 1 Axes>"
      ]
     },
     "metadata": {
      "needs_background": "light"
     },
     "output_type": "display_data"
    }
   ],
   "source": [
    "# Spot Check Algorithms\n",
    "models = []\n",
    "models.append(('Logistic Regression', LogisticRegression()))\n",
    "models.append(('SVM', SVC()))\n",
    "models.append(('Decision Tree', DecisionTreeClassifier()))\n",
    "models.append(('KNN', KNeighborsClassifier(n_neighbors=1)))\n",
    "models.append(('Random Forest',RandomForestClassifier(n_estimators=50,n_jobs=-1,random_state=42))) #We chose this\n",
    "models.append(('AdaBoost', AdaBoostClassifier(DecisionTreeClassifier(max_depth=3), n_estimators=100, random_state=10)))\n",
    "models.append(('XGBoost', xgboost.XGBClassifier()))\n",
    "\n",
    "# Evaluate Each Model in turn\n",
    "results = []\n",
    "names = []\n",
    "for name, model in models:\n",
    "    kfold = StratifiedKFold(n_splits=10, random_state=1, shuffle=True)\n",
    "    cv_results = cross_val_score(model, x_train, y_train, cv=kfold, scoring='accuracy')\n",
    "    results.append(cv_results)\n",
    "    names.append(name)\n",
    "    print('%s: %f (%f)' % (name, cv_results.mean(), cv_results.std()))\n",
    "\n",
    "# Compare Algorithms\n",
    "plt.boxplot(results, labels=names)\n",
    "plt.title('Algorithm Comparison', fontsize=18, fontweight='bold')\n",
    "plt.xlabel('Machine Learning Model', fontsize=16)\n",
    "plt.ylabel('Accuracy', fontsize=16)\n",
    "plt.savefig('./graphs/algorithm_comparison', dpi=720, bbox_inches='tight')          \n",
    "plt.show()"
   ]
  },
  {
   "cell_type": "code",
   "execution_count": null,
   "id": "0d946b56",
   "metadata": {},
   "outputs": [],
   "source": []
  }
 ],
 "metadata": {
  "kernelspec": {
   "display_name": "Python 3",
   "language": "python",
   "name": "python3"
  },
  "language_info": {
   "codemirror_mode": {
    "name": "ipython",
    "version": 3
   },
   "file_extension": ".py",
   "mimetype": "text/x-python",
   "name": "python",
   "nbconvert_exporter": "python",
   "pygments_lexer": "ipython3",
   "version": "3.8.8"
  }
 },
 "nbformat": 4,
 "nbformat_minor": 5
}
