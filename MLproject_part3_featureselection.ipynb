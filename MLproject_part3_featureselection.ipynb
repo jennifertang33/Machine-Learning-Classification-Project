{
 "cells": [
  {
   "cell_type": "markdown",
   "id": "77ac7335",
   "metadata": {},
   "source": [
    "# Machine Learning Project Part 3 - Feature Selection"
   ]
  },
  {
   "cell_type": "code",
   "execution_count": 2,
   "id": "cb89d487",
   "metadata": {},
   "outputs": [],
   "source": [
    "import pandas as pd\n",
    "from sklearn.model_selection import train_test_split\n",
    "from sklearn.preprocessing import StandardScaler\n",
    "from sklearn.decomposition import PCA\n",
    "from sklearn.linear_model import LogisticRegression\n",
    "from sklearn.metrics import classification_report\n",
    "from sklearn.svm import LinearSVC\n",
    "from sklearn.tree import DecisionTreeClassifier\n",
    "from sklearn.neighbors import KNeighborsClassifier\n",
    "from sklearn.ensemble import RandomForestClassifier\n",
    "from sklearn.ensemble import AdaBoostClassifier\n",
    "import xgboost"
   ]
  },
  {
   "cell_type": "code",
   "execution_count": 3,
   "id": "e1a43e43",
   "metadata": {},
   "outputs": [],
   "source": [
    "df = pd.read_csv('./dataset/cleandata.csv', index_col=[0])\n",
    "x = df.drop('income', axis=1)\n",
    "y = df['income']"
   ]
  },
  {
   "cell_type": "code",
   "execution_count": 4,
   "id": "e6dbcc7f",
   "metadata": {},
   "outputs": [],
   "source": [
    "x_train, x_test, y_train, y_test = train_test_split(x, y, test_size=0.3, random_state=1)"
   ]
  },
  {
   "cell_type": "code",
   "execution_count": 5,
   "id": "7026ae6c",
   "metadata": {},
   "outputs": [],
   "source": [
    "# scale the training and testing data\n",
    "scaler = StandardScaler() \n",
    "x_train = scaler.fit_transform(x_train)\n",
    "x_test = scaler.transform(x_test)"
   ]
  },
  {
   "cell_type": "markdown",
   "id": "c6d3d6f1",
   "metadata": {},
   "source": [
    "# PCA"
   ]
  },
  {
   "cell_type": "code",
   "execution_count": 6,
   "id": "99d56a93",
   "metadata": {},
   "outputs": [],
   "source": [
    "pca = PCA(n_components = 70)\n",
    "x_train_pca = pca.fit_transform(x_train)\n",
    "x_test_pca = pca.transform(x_test)"
   ]
  },
  {
   "cell_type": "markdown",
   "id": "5d83990b",
   "metadata": {},
   "source": [
    "### 1. apply PCA on Logistic Regression"
   ]
  },
  {
   "cell_type": "code",
   "execution_count": null,
   "id": "7e830df2",
   "metadata": {},
   "outputs": [],
   "source": [
    "logistic = LogisticRegression(random_state=0)\n",
    "logistic.fit(x_train_pca, y_train)\n",
    "logistic_pred = logistic.predict(x_test_pca)"
   ]
  },
  {
   "cell_type": "code",
   "execution_count": null,
   "id": "1691fd82",
   "metadata": {},
   "outputs": [],
   "source": [
    "print(classification_report(y_test, logistic_pred))"
   ]
  },
  {
   "cell_type": "markdown",
   "id": "5572c32f",
   "metadata": {},
   "source": [
    "### 2. apply PCA on SVM"
   ]
  },
  {
   "cell_type": "code",
   "execution_count": null,
   "id": "91fa41c6",
   "metadata": {},
   "outputs": [],
   "source": [
    "SVM_model = LinearSVC()\n",
    "SVM_model.fit(x_train_pca, y_train)\n",
    "SVM_pred = SVM_model.predict(x_test_pca)"
   ]
  },
  {
   "cell_type": "code",
   "execution_count": null,
   "id": "de119044",
   "metadata": {},
   "outputs": [],
   "source": [
    "print(classification_report(y_test, SVM_pred))"
   ]
  },
  {
   "cell_type": "markdown",
   "id": "5b0a0a20",
   "metadata": {},
   "source": [
    "### 3. apply PCA on Decision Tree"
   ]
  },
  {
   "cell_type": "code",
   "execution_count": null,
   "id": "4ab33c1c",
   "metadata": {},
   "outputs": [],
   "source": [
    "Dtree = DecisionTreeClassifier()\n",
    "Dtree.fit(x_train_pca, y_train)\n",
    "Dtree_pred = Dtree.predict(x_test_pca)"
   ]
  },
  {
   "cell_type": "code",
   "execution_count": null,
   "id": "b7eebca0",
   "metadata": {},
   "outputs": [],
   "source": [
    "print(f\"{classification_report(y_test, Dtree_pred)}\")"
   ]
  },
  {
   "cell_type": "markdown",
   "id": "c0a853d0",
   "metadata": {},
   "source": [
    "### 4. apply PCA on KNN"
   ]
  },
  {
   "cell_type": "code",
   "execution_count": 7,
   "id": "0ccd37bd",
   "metadata": {},
   "outputs": [],
   "source": [
    "knn = KNeighborsClassifier(n_neighbors=1)\n",
    "knn.fit(x_train_pca, y_train)\n",
    "knn_pred = knn.predict(x_test_pca)"
   ]
  },
  {
   "cell_type": "code",
   "execution_count": null,
   "id": "b590734c",
   "metadata": {},
   "outputs": [],
   "source": [
    "print(f\"{classification_report(y_test, knn_pred)}\")"
   ]
  },
  {
   "cell_type": "markdown",
   "id": "ee248a83",
   "metadata": {},
   "source": [
    "### 5. apply PCA on Random Forest"
   ]
  },
  {
   "cell_type": "code",
   "execution_count": null,
   "id": "24c985c3",
   "metadata": {},
   "outputs": [],
   "source": [
    "randomforest = RandomForestClassifier(n_estimators=50, n_jobs=-1, random_state=42)\n",
    "randomforest.fit(x_train_pca, y_train)\n",
    "randomforest_pred = randomforest.predict(x_test_pca)"
   ]
  },
  {
   "cell_type": "code",
   "execution_count": null,
   "id": "001a9912",
   "metadata": {},
   "outputs": [],
   "source": [
    "print(f\"{classification_report(y_test, randomforest_pred)}\")"
   ]
  },
  {
   "cell_type": "markdown",
   "id": "f182a113",
   "metadata": {},
   "source": [
    "### 6. apply PCA on AdaBoost"
   ]
  },
  {
   "cell_type": "code",
   "execution_count": null,
   "id": "2b33c8f3",
   "metadata": {},
   "outputs": [],
   "source": [
    "ada = AdaBoostClassifier(DecisionTreeClassifier(max_depth=3), n_estimators=100, random_state=10)\n",
    "ada.fit(x_train_pca, y_train)\n",
    "ada_pred = ada.predict(x_test_pca)"
   ]
  },
  {
   "cell_type": "code",
   "execution_count": null,
   "id": "78156b46",
   "metadata": {},
   "outputs": [],
   "source": [
    "print(f\"{classification_report(y_test, ada_pred)}\")"
   ]
  },
  {
   "cell_type": "markdown",
   "id": "15fe940d",
   "metadata": {},
   "source": [
    "### 7. apply PCA on XGBoost"
   ]
  },
  {
   "cell_type": "code",
   "execution_count": null,
   "id": "e8c11f72",
   "metadata": {
    "scrolled": true
   },
   "outputs": [],
   "source": [
    "xg = xgboost.XGBClassifier()\n",
    "xg.fit(x_train_pca, y_train)\n",
    "xg_pred = xg.predict(x_test_pca)"
   ]
  },
  {
   "cell_type": "code",
   "execution_count": null,
   "id": "8605397f",
   "metadata": {},
   "outputs": [],
   "source": [
    "print(f\"{classification_report(y_test, xg_pred)}\")"
   ]
  },
  {
   "cell_type": "code",
   "execution_count": null,
   "id": "9d081822",
   "metadata": {},
   "outputs": [],
   "source": []
  }
 ],
 "metadata": {
  "kernelspec": {
   "display_name": "Python 3",
   "language": "python",
   "name": "python3"
  },
  "language_info": {
   "codemirror_mode": {
    "name": "ipython",
    "version": 3
   },
   "file_extension": ".py",
   "mimetype": "text/x-python",
   "name": "python",
   "nbconvert_exporter": "python",
   "pygments_lexer": "ipython3",
   "version": "3.8.8"
  }
 },
 "nbformat": 4,
 "nbformat_minor": 5
}
