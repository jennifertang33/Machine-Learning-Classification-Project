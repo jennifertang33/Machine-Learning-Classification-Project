{
 "cells": [
  {
   "cell_type": "code",
   "execution_count": 1,
   "id": "33cc779d",
   "metadata": {},
   "outputs": [],
   "source": [
    "import pandas as pd\n",
    "from sklearn.model_selection import train_test_split\n",
    "from sklearn.preprocessing import StandardScaler\n",
    "from sklearn.neighbors import KNeighborsClassifier\n",
    "from sklearn.metrics import classification_report\n",
    "from sklearn.metrics import accuracy_score"
   ]
  },
  {
   "cell_type": "code",
   "execution_count": 2,
   "id": "c7b42ccf",
   "metadata": {},
   "outputs": [],
   "source": [
    "df = pd.read_csv('./dataset/cleandata.csv', index_col=[0])"
   ]
  },
  {
   "cell_type": "code",
   "execution_count": 3,
   "id": "9bf31eaf",
   "metadata": {},
   "outputs": [],
   "source": [
    "x = df.drop('income', axis=1)\n",
    "y = df['income']"
   ]
  },
  {
   "cell_type": "code",
   "execution_count": 4,
   "id": "5e76565b",
   "metadata": {},
   "outputs": [],
   "source": [
    "x_train, x_test, y_train, y_test = train_test_split(x, y, test_size=0.3, random_state=1)"
   ]
  },
  {
   "cell_type": "code",
   "execution_count": 5,
   "id": "16424bba",
   "metadata": {},
   "outputs": [],
   "source": [
    "# scale the training and testing data\n",
    "\n",
    "scaler = StandardScaler() \n",
    "x_train = scaler.fit_transform(x_train)\n",
    "x_test = scaler.transform(x_test)"
   ]
  },
  {
   "cell_type": "markdown",
   "id": "87499ae3",
   "metadata": {},
   "source": [
    "## Baseline Model"
   ]
  },
  {
   "cell_type": "code",
   "execution_count": 6,
   "id": "80a9eb78",
   "metadata": {},
   "outputs": [],
   "source": [
    "# k=1, we have searched for the optimum value of k, for details please go to part2, model comparison\n",
    "\n",
    "knn = KNeighborsClassifier(n_neighbors=1)\n",
    "knn.fit(x_train, y_train)\n",
    "knn_pred = knn.predict(x_test)"
   ]
  },
  {
   "cell_type": "code",
   "execution_count": 8,
   "id": "854475fe",
   "metadata": {},
   "outputs": [
    {
     "name": "stdout",
     "output_type": "stream",
     "text": [
      "              precision    recall  f1-score   support\n",
      "\n",
      "           0       0.92      0.84      0.88     11155\n",
      "           1       0.85      0.93      0.89     11138\n",
      "\n",
      "    accuracy                           0.88     22293\n",
      "   macro avg       0.89      0.88      0.88     22293\n",
      "weighted avg       0.89      0.88      0.88     22293\n",
      "\n"
     ]
    }
   ],
   "source": [
    "print(f\"{classification_report(y_test, knn_pred)}\")"
   ]
  },
  {
   "cell_type": "code",
   "execution_count": 18,
   "id": "52e21319",
   "metadata": {},
   "outputs": [
    {
     "name": "stdout",
     "output_type": "stream",
     "text": [
      "0.8861526039563988\n"
     ]
    }
   ],
   "source": [
    "base_acc = accuracy_score(y_test, knn_pred)\n",
    "print(base_acc)"
   ]
  },
  {
   "cell_type": "markdown",
   "id": "cf2ad28a",
   "metadata": {},
   "source": [
    "## Apply Grid Search on KNN"
   ]
  },
  {
   "cell_type": "code",
   "execution_count": 14,
   "id": "d148461b",
   "metadata": {},
   "outputs": [
    {
     "name": "stdout",
     "output_type": "stream",
     "text": [
      "\n",
      " uniform + euclidean\n",
      "0.8845377472749294\n",
      "\n",
      " uniform + manhattan\n",
      "0.8861526039563988\n",
      "\n",
      " uniform + minkowski\n",
      "0.8845377472749294\n",
      "\n",
      " distance + euclidean\n",
      "0.8845377472749294\n",
      "\n",
      " distance + manhattan\n",
      "0.8861526039563988\n",
      "\n",
      " distance + minkowski\n",
      "0.8845377472749294\n"
     ]
    }
   ],
   "source": [
    "weights = ['uniform', 'distance']\n",
    "metric = ['euclidean', 'manhattan', 'minkowski']\n",
    "\n",
    "for i in weights:\n",
    "    for j in metric:\n",
    "        knn = KNeighborsClassifier(n_neighbors=1, weights=i, metric=j)\n",
    "        knn.fit(x_train, y_train)\n",
    "        knn_pred = knn.predict(x_test)\n",
    "        acc = accuracy_score(y_test, knn_pred)\n",
    "        print('\\n', i,'+', j)\n",
    "        print(acc)"
   ]
  },
  {
   "cell_type": "code",
   "execution_count": null,
   "id": "bcd4d50f",
   "metadata": {},
   "outputs": [],
   "source": [
    "# best params = {n_neignbors=1, weights='uniform' , metric='manhattan'}\n",
    "# same as       {n_neignbors=1, weights='distance' , metric='manhattan'}   "
   ]
  },
  {
   "cell_type": "markdown",
   "id": "cf04fa73",
   "metadata": {},
   "source": [
    "## KNN with best params"
   ]
  },
  {
   "cell_type": "code",
   "execution_count": 21,
   "id": "6af4458e",
   "metadata": {},
   "outputs": [],
   "source": [
    "knn = KNeighborsClassifier(n_neighbors=1, weights='uniform', metric='manhattan')\n",
    "knn.fit(x_train, y_train)\n",
    "knn_pred = knn.predict(x_test)"
   ]
  },
  {
   "cell_type": "code",
   "execution_count": 22,
   "id": "de84835f",
   "metadata": {},
   "outputs": [
    {
     "name": "stdout",
     "output_type": "stream",
     "text": [
      "              precision    recall  f1-score   support\n",
      "\n",
      "           0       0.92      0.85      0.88     11155\n",
      "           1       0.86      0.93      0.89     11138\n",
      "\n",
      "    accuracy                           0.89     22293\n",
      "   macro avg       0.89      0.89      0.89     22293\n",
      "weighted avg       0.89      0.89      0.89     22293\n",
      "\n"
     ]
    }
   ],
   "source": [
    "print(f\"{classification_report(y_test, knn_pred)}\")"
   ]
  },
  {
   "cell_type": "code",
   "execution_count": 23,
   "id": "9cbafc2e",
   "metadata": {},
   "outputs": [
    {
     "name": "stdout",
     "output_type": "stream",
     "text": [
      "0.8861526039563988\n"
     ]
    }
   ],
   "source": [
    "bestparams_acc = accuracy_score(y_test, knn_pred)\n",
    "print(bestparams_acc)"
   ]
  },
  {
   "cell_type": "markdown",
   "id": "757f45c6",
   "metadata": {},
   "source": [
    "### improvement:"
   ]
  },
  {
   "cell_type": "code",
   "execution_count": 28,
   "id": "4868988c",
   "metadata": {},
   "outputs": [
    {
     "name": "stdout",
     "output_type": "stream",
     "text": [
      "0.0 %\n"
     ]
    }
   ],
   "source": [
    "improvement = (bestparams_acc - base_acc)/base_acc * 100\n",
    "print(improvement, '%')"
   ]
  },
  {
   "cell_type": "code",
   "execution_count": null,
   "id": "84981fc4",
   "metadata": {},
   "outputs": [],
   "source": [
    "# no improvement shown\n",
    "\n",
    "# In KNN model, the most important parameter is the value of k,\n",
    "# since we have already searched for the optimum value of k and applied it in the baseline model\n",
    "# the other params that used in grid search don't help in further enhancing the accuracy"
   ]
  }
 ],
 "metadata": {
  "kernelspec": {
   "display_name": "Python 3",
   "language": "python",
   "name": "python3"
  },
  "language_info": {
   "codemirror_mode": {
    "name": "ipython",
    "version": 3
   },
   "file_extension": ".py",
   "mimetype": "text/x-python",
   "name": "python",
   "nbconvert_exporter": "python",
   "pygments_lexer": "ipython3",
   "version": "3.8.8"
  }
 },
 "nbformat": 4,
 "nbformat_minor": 5
}
